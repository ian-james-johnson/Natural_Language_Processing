{
 "cells": [
  {
   "cell_type": "code",
   "execution_count": 7,
   "id": "c3ef7dab",
   "metadata": {},
   "outputs": [],
   "source": [
    "import numpy as np\n",
    "import pandas as pd\n",
    "\n",
    "import re"
   ]
  },
  {
   "cell_type": "markdown",
   "id": "a4c10a90",
   "metadata": {},
   "source": [
    "1. Write a function named is_vowel. It should accept a string as input and use a regular expression to determine if the passed string is a vowel. While not explicitly mentioned in the lesson, you can treat the result of re.search as a boolean value that indicates whether or not the regular expression matches the string."
   ]
  },
  {
   "cell_type": "code",
   "execution_count": 8,
   "id": "8de3567b",
   "metadata": {},
   "outputs": [],
   "source": [
    "def is_vowel(string):\n",
    "    regexp = r'[aeiou]'\n",
    "    return re.search(regexp, string, re.IGNORECASE) !=None"
   ]
  },
  {
   "cell_type": "code",
   "execution_count": 9,
   "id": "c0f51bc1",
   "metadata": {},
   "outputs": [
    {
     "name": "stdout",
     "output_type": "stream",
     "text": [
      "a: True\n",
      "b: False\n",
      "A: True\n"
     ]
    }
   ],
   "source": [
    "print('a:', is_vowel('a'))\n",
    "print('b:', is_vowel('b'))\n",
    "print('A:', is_vowel('A'))"
   ]
  },
  {
   "cell_type": "code",
   "execution_count": 11,
   "id": "2b8404de",
   "metadata": {},
   "outputs": [
    {
     "data": {
      "text/plain": [
       "<re.Match object; span=(0, 1), match='h'>"
      ]
     },
     "execution_count": 11,
     "metadata": {},
     "output_type": "execute_result"
    }
   ],
   "source": [
    "re.search(r'h', 'hello')"
   ]
  },
  {
   "cell_type": "markdown",
   "id": "2239f662",
   "metadata": {},
   "source": [
    "2. Write a function named is_validusername that accepts a string as input. A valid username starts with a lower case letter, and only consists of lowercase letters, numbers, or the character. It should be no longer than 32 characters. The function should return either true of false depending on whether the passed string is a valid username."
   ]
  },
  {
   "cell_type": "code",
   "execution_count": 14,
   "id": "41c68ba1",
   "metadata": {},
   "outputs": [],
   "source": [
    "def is_valid_username(string):\n",
    "    regexp = r'^[a-z][_a-z0-9]*$'\n",
    "    return (re.search(regexp, string) != None) & (len(string) <= 32)"
   ]
  },
  {
   "cell_type": "code",
   "execution_count": 15,
   "id": "46f47fd3",
   "metadata": {},
   "outputs": [
    {
     "name": "stdout",
     "output_type": "stream",
     "text": [
      "aaaaaaaaaaaaaaaaaaaaaaaaaaaaaaaaa: False\n",
      "codeup: True\n",
      "Codeup: False\n",
      "codeup123: True\n",
      "1codeup: False\n",
      "codeup_123: True\n"
     ]
    }
   ],
   "source": [
    "print('aaaaaaaaaaaaaaaaaaaaaaaaaaaaaaaaa:', is_valid_username('aaaaaaaaaaaaaaaaaaaaaaaaaaaaaaaaa'))\n",
    "print('codeup:', is_valid_username('codeup'))\n",
    "print('Codeup:', is_valid_username('Codeup'))\n",
    "print('codeup123:', is_valid_username('codeup123'))\n",
    "print('1codeup:', is_valid_username('1codeup'))\n",
    "print('codeup_123:', is_valid_username('codeup_123'))"
   ]
  },
  {
   "cell_type": "markdown",
   "id": "81451854",
   "metadata": {},
   "source": [
    "3. Write a regular expression to capture phone numbers. It should match all of the following:\n",
    "- (210) 867 5309\n",
    "- +1 210.867.5309\n",
    "- 867-5309\n",
    "- 210-867-5309"
   ]
  },
  {
   "cell_type": "code",
   "execution_count": 22,
   "id": "c741232f",
   "metadata": {},
   "outputs": [],
   "source": [
    "def phone_number(string):\n",
    "    country = area = exchange = line = ''\n",
    "    regexp = r'\\d+'\n",
    "    number_list = re.findall(regexp, string)\n",
    "    line = str(number_list[-1])\n",
    "    exchange = str(number_list[-2])\n",
    "    if len(number_list) == 3:\n",
    "        area = str(number_list[-3])\n",
    "        return area + ',' + exchange + '.' + line\n",
    "    if len(number_list) == 4:\n",
    "        area = str(number_list[-3])\n",
    "        country = str(number_list[-4])\n",
    "        return '+' + country + ' ' + area + '.' + exchange + '.' + line\n",
    "    return exchange + '.' + line"
   ]
  },
  {
   "cell_type": "code",
   "execution_count": 23,
   "id": "ea9337c4",
   "metadata": {},
   "outputs": [
    {
     "name": "stdout",
     "output_type": "stream",
     "text": [
      "210,867.5309\n",
      "+1 210.867.5309\n",
      "867.5309\n",
      "210,867.5309\n"
     ]
    }
   ],
   "source": [
    "print(phone_number('(210) 867 5309'))\n",
    "print(phone_number('+1 210.867.5309'))\n",
    "print(phone_number('867-5309'))\n",
    "print(phone_number('210-867-5309'))"
   ]
  },
  {
   "cell_type": "markdown",
   "id": "016b140f",
   "metadata": {},
   "source": [
    "4. Use regular expressions to convert the dates below to the standardized year-month-day format."
   ]
  },
  {
   "cell_type": "code",
   "execution_count": 24,
   "id": "09c4ed3d",
   "metadata": {},
   "outputs": [],
   "source": [
    "def ymd(s):\n",
    "    regexp = r'(\\d\\d)\\D(\\d\\d)\\D(\\d\\d)'\n",
    "    return s.str.replace(regexp, r'\\3/\\2/1', regex=True)"
   ]
  },
  {
   "cell_type": "code",
   "execution_count": 25,
   "id": "7d224849",
   "metadata": {},
   "outputs": [
    {
     "data": {
      "text/plain": [
       "0    19/04/1\n",
       "1    19/05/1\n",
       "2    19/06/1\n",
       "3    19/07/1\n",
       "4    19/08/1\n",
       "5    19/09/1\n",
       "6    19/10/1\n",
       "dtype: object"
      ]
     },
     "execution_count": 25,
     "metadata": {},
     "output_type": "execute_result"
    }
   ],
   "source": [
    "s = pd.Series([\"02/04/19\",\"02/05/19\",\"02/06/19\",\"02/07/19\",\"02/08/19\",\"02/09/19\",\"02/10/19\"])\n",
    "ymd(s)"
   ]
  },
  {
   "cell_type": "markdown",
   "id": "ecec23ea",
   "metadata": {},
   "source": [
    "Write a regex to extract the various parts of these logfile lines: <br>\n",
    "GET /api/v1/sales?page=86 [16/Apr/2019:193452+0000] HTTP/1.1 {200} 510348 \"python-requests/2.21.0\" 97.105.19.58 <br> <br>\n",
    "POST /users_accounts/file-upload [16/Apr/2019:193452+0000] HTTP/1.1 {201} 42 \"User-Agent: Mozilla/5.0 (X11; Fedora; Fedora; Linux x86_64) AppleWebKit/537.36 (KHTML, like Gecko) Chrome/73.0.3683.86 Safari/537.36\" 97.105.19.58 <br> <br>\n",
    "GET /api/v1/items?page=3 [16/Apr/2019:193453+0000] HTTP/1.1 {429} 3561 \"python-requests/2.21.0\" 97.105.19.58"
   ]
  },
  {
   "cell_type": "code",
   "execution_count": 26,
   "id": "f82a1f11",
   "metadata": {},
   "outputs": [],
   "source": [
    "def logfile_splitter(string):\n",
    "    regexp = '^(\\S+)\\s(\\S+)\\s\\[(\\S+)]\\s(\\S+)\\s\\{(\\S+)\\}\\s(\\S+)\\s\"(.+)\"\\s(\\S+)$'\n",
    "    items = re.findall(regexp, string)[0]\n",
    "    log_dict = {'cmd':str(items[0]), 'query':str(items[1]), 'date':str(items[2]), \n",
    "                'version':str(items[3]), 'status':str(items[4]), 'id':str(items[5]), \n",
    "                'agent':str(items[6]), 'ip':str(items[7])}\n",
    "    return log_dict"
   ]
  },
  {
   "cell_type": "code",
   "execution_count": 27,
   "id": "2f29295b",
   "metadata": {},
   "outputs": [
    {
     "data": {
      "text/html": [
       "<div>\n",
       "<style scoped>\n",
       "    .dataframe tbody tr th:only-of-type {\n",
       "        vertical-align: middle;\n",
       "    }\n",
       "\n",
       "    .dataframe tbody tr th {\n",
       "        vertical-align: top;\n",
       "    }\n",
       "\n",
       "    .dataframe thead th {\n",
       "        text-align: right;\n",
       "    }\n",
       "</style>\n",
       "<table border=\"1\" class=\"dataframe\">\n",
       "  <thead>\n",
       "    <tr style=\"text-align: right;\">\n",
       "      <th></th>\n",
       "      <th>cmd</th>\n",
       "      <th>query</th>\n",
       "      <th>date</th>\n",
       "      <th>version</th>\n",
       "      <th>status</th>\n",
       "      <th>id</th>\n",
       "      <th>agent</th>\n",
       "      <th>ip</th>\n",
       "    </tr>\n",
       "  </thead>\n",
       "  <tbody>\n",
       "    <tr>\n",
       "      <th>0</th>\n",
       "      <td>GET</td>\n",
       "      <td>/api/v1/sales?page=86</td>\n",
       "      <td>16/Apr/2019:193452+0000</td>\n",
       "      <td>HTTP/1.1</td>\n",
       "      <td>200</td>\n",
       "      <td>510348</td>\n",
       "      <td>python-requests/2.21.0</td>\n",
       "      <td>97.105.19.58</td>\n",
       "    </tr>\n",
       "    <tr>\n",
       "      <th>1</th>\n",
       "      <td>POST</td>\n",
       "      <td>/users_accounts/file-upload</td>\n",
       "      <td>16/Apr/2019:193452+0000</td>\n",
       "      <td>HTTP/1.1</td>\n",
       "      <td>201</td>\n",
       "      <td>42</td>\n",
       "      <td>User-Agent: Mozilla/5.0 (X11; Fedora; Fedora; ...</td>\n",
       "      <td>97.105.19.58</td>\n",
       "    </tr>\n",
       "    <tr>\n",
       "      <th>2</th>\n",
       "      <td>GET</td>\n",
       "      <td>/api/v1/items?page=3</td>\n",
       "      <td>16/Apr/2019:193453+0000</td>\n",
       "      <td>HTTP/1.1</td>\n",
       "      <td>429</td>\n",
       "      <td>3561</td>\n",
       "      <td>python-requests/2.21.0</td>\n",
       "      <td>97.105.19.58</td>\n",
       "    </tr>\n",
       "  </tbody>\n",
       "</table>\n",
       "</div>"
      ],
      "text/plain": [
       "    cmd                        query                     date   version  \\\n",
       "0   GET        /api/v1/sales?page=86  16/Apr/2019:193452+0000  HTTP/1.1   \n",
       "1  POST  /users_accounts/file-upload  16/Apr/2019:193452+0000  HTTP/1.1   \n",
       "2   GET         /api/v1/items?page=3  16/Apr/2019:193453+0000  HTTP/1.1   \n",
       "\n",
       "  status      id                                              agent  \\\n",
       "0    200  510348                             python-requests/2.21.0   \n",
       "1    201      42  User-Agent: Mozilla/5.0 (X11; Fedora; Fedora; ...   \n",
       "2    429    3561                             python-requests/2.21.0   \n",
       "\n",
       "             ip  \n",
       "0  97.105.19.58  \n",
       "1  97.105.19.58  \n",
       "2  97.105.19.58  "
      ]
     },
     "execution_count": 27,
     "metadata": {},
     "output_type": "execute_result"
    }
   ],
   "source": [
    "loglist = ['GET /api/v1/sales?page=86 [16/Apr/2019:193452+0000] HTTP/1.1 {200} 510348 \"python-requests/2.21.0\" 97.105.19.58',\n",
    "           'POST /users_accounts/file-upload [16/Apr/2019:193452+0000] HTTP/1.1 {201} 42 \"User-Agent: Mozilla/5.0 (X11; Fedora; Fedora; Linux x86_64) AppleWebKit/537.36 (KHTML, like Gecko) Chrome/73.0.3683.86 Safari/537.36\" 97.105.19.58',\n",
    "           'GET /api/v1/items?page=3 [16/Apr/2019:193453+0000] HTTP/1.1 {429} 3561 \"python-requests/2.21.0\" 97.105.19.58']\n",
    "\n",
    "df = pd.DataFrame({'cmd':[], 'query':[], 'date':[], 'version':[], 'status':[], 'id':[],\n",
    "                   'agent':[], 'ip':[]})\n",
    "\n",
    "dflist = []\n",
    "for log in loglist:\n",
    "    dflist.append(logfile_splitter(log))\n",
    "\n",
    "df = pd.DataFrame(dflist)\n",
    "df"
   ]
  },
  {
   "cell_type": "markdown",
   "id": "5cb2d6ce",
   "metadata": {},
   "source": [
    "Bonus Exercise <br>\n",
    "You can find a list of words on your mac at /usr/share/dict/words. Use this file to answer the following questions: <br>\n",
    "- How many words have at least 3 vowels?\n",
    "- How many words have at least 3 vowels in a row?\n",
    "- How many words have at least 4 consonants in a row?\n",
    "- How many words start and end with the same letter?\n",
    "- How many words start and end with a vowel?\n",
    "- How many words contain the same letter 3 times in a row?\n",
    "- What other interesting patterns in words can you find?"
   ]
  },
  {
   "cell_type": "code",
   "execution_count": null,
   "id": "dd857cee",
   "metadata": {},
   "outputs": [],
   "source": []
  }
 ],
 "metadata": {
  "kernelspec": {
   "display_name": "Python 3",
   "language": "python",
   "name": "python3"
  },
  "language_info": {
   "codemirror_mode": {
    "name": "ipython",
    "version": 3
   },
   "file_extension": ".py",
   "mimetype": "text/x-python",
   "name": "python",
   "nbconvert_exporter": "python",
   "pygments_lexer": "ipython3",
   "version": "3.8.8"
  }
 },
 "nbformat": 4,
 "nbformat_minor": 5
}
